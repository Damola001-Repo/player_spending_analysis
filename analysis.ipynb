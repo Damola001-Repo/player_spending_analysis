{
 "cells": [
  {
   "cell_type": "markdown",
   "id": "7d105b90",
   "metadata": {},
   "source": [
    "### Load Dataset"
   ]
  },
  {
   "cell_type": "code",
   "execution_count": 2,
   "id": "a722092c",
   "metadata": {},
   "outputs": [
    {
     "data": {
      "text/html": [
       "<div>\n",
       "<style scoped>\n",
       "    .dataframe tbody tr th:only-of-type {\n",
       "        vertical-align: middle;\n",
       "    }\n",
       "\n",
       "    .dataframe tbody tr th {\n",
       "        vertical-align: top;\n",
       "    }\n",
       "\n",
       "    .dataframe thead th {\n",
       "        text-align: right;\n",
       "    }\n",
       "</style>\n",
       "<table border=\"1\" class=\"dataframe\">\n",
       "  <thead>\n",
       "    <tr style=\"text-align: right;\">\n",
       "      <th></th>\n",
       "      <th>Player ID</th>\n",
       "      <th>Sessions Played</th>\n",
       "      <th>Avg Session Duration (mins)</th>\n",
       "      <th>Total Hours Played</th>\n",
       "      <th>Engagement Score</th>\n",
       "      <th>Spending (USD)</th>\n",
       "      <th>New Player</th>\n",
       "      <th>Game Mode</th>\n",
       "      <th>Device Used</th>\n",
       "    </tr>\n",
       "  </thead>\n",
       "  <tbody>\n",
       "    <tr>\n",
       "      <th>0</th>\n",
       "      <td>Player1889</td>\n",
       "      <td>88.0</td>\n",
       "      <td>52.540813</td>\n",
       "      <td>228.481935</td>\n",
       "      <td>6.569165</td>\n",
       "      <td>181.999202</td>\n",
       "      <td>Yes</td>\n",
       "      <td>BATTLEROYALE</td>\n",
       "      <td>Tablet</td>\n",
       "    </tr>\n",
       "    <tr>\n",
       "      <th>1</th>\n",
       "      <td>Playexxr7059</td>\n",
       "      <td>41.0</td>\n",
       "      <td>52.540813</td>\n",
       "      <td>228.481935</td>\n",
       "      <td>3.354784</td>\n",
       "      <td>181.999202</td>\n",
       "      <td>Nxxo</td>\n",
       "      <td>Casual</td>\n",
       "      <td>PxxC1</td>\n",
       "    </tr>\n",
       "    <tr>\n",
       "      <th>2</th>\n",
       "      <td>Player6122</td>\n",
       "      <td>18.0</td>\n",
       "      <td>52.540813</td>\n",
       "      <td>228.481935</td>\n",
       "      <td>2.478129</td>\n",
       "      <td>181.999202</td>\n",
       "      <td>No</td>\n",
       "      <td>Straxxtegy</td>\n",
       "      <td>PxxC</td>\n",
       "    </tr>\n",
       "    <tr>\n",
       "      <th>3</th>\n",
       "      <td>player1987</td>\n",
       "      <td>79.0</td>\n",
       "      <td>160.034785</td>\n",
       "      <td>228.481935</td>\n",
       "      <td>8.107943</td>\n",
       "      <td>181.999202</td>\n",
       "      <td>No</td>\n",
       "      <td>Battlexx Royale</td>\n",
       "      <td>PC1</td>\n",
       "    </tr>\n",
       "    <tr>\n",
       "      <th>4</th>\n",
       "      <td>player6339</td>\n",
       "      <td>81.0</td>\n",
       "      <td>NaN</td>\n",
       "      <td>NaN</td>\n",
       "      <td>NaN</td>\n",
       "      <td>181.999202</td>\n",
       "      <td>NaN</td>\n",
       "      <td>Battlexx Royale</td>\n",
       "      <td>NaN</td>\n",
       "    </tr>\n",
       "  </tbody>\n",
       "</table>\n",
       "</div>"
      ],
      "text/plain": [
       "      Player ID  Sessions Played  Avg Session Duration (mins)  \\\n",
       "0    Player1889             88.0                    52.540813   \n",
       "1  Playexxr7059             41.0                    52.540813   \n",
       "2    Player6122             18.0                    52.540813   \n",
       "3    player1987             79.0                   160.034785   \n",
       "4    player6339             81.0                          NaN   \n",
       "\n",
       "   Total Hours Played  Engagement Score  Spending (USD) New Player  \\\n",
       "0          228.481935          6.569165      181.999202        Yes   \n",
       "1          228.481935          3.354784      181.999202       Nxxo   \n",
       "2          228.481935          2.478129      181.999202         No   \n",
       "3          228.481935          8.107943      181.999202        No    \n",
       "4                 NaN               NaN      181.999202        NaN   \n",
       "\n",
       "         Game Mode Device Used  \n",
       "0     BATTLEROYALE      Tablet  \n",
       "1           Casual       PxxC1  \n",
       "2       Straxxtegy        PxxC  \n",
       "3  Battlexx Royale         PC1  \n",
       "4  Battlexx Royale         NaN  "
      ]
     },
     "execution_count": 2,
     "metadata": {},
     "output_type": "execute_result"
    }
   ],
   "source": [
    "import pandas as pd\n",
    "df = pd.read_csv('messy__player_spending_data_.csv')\n",
    "df.head()"
   ]
  },
  {
   "cell_type": "code",
   "execution_count": 3,
   "id": "d7f82a8a",
   "metadata": {},
   "outputs": [
    {
     "data": {
      "text/html": [
       "<div>\n",
       "<style scoped>\n",
       "    .dataframe tbody tr th:only-of-type {\n",
       "        vertical-align: middle;\n",
       "    }\n",
       "\n",
       "    .dataframe tbody tr th {\n",
       "        vertical-align: top;\n",
       "    }\n",
       "\n",
       "    .dataframe thead th {\n",
       "        text-align: right;\n",
       "    }\n",
       "</style>\n",
       "<table border=\"1\" class=\"dataframe\">\n",
       "  <thead>\n",
       "    <tr style=\"text-align: right;\">\n",
       "      <th></th>\n",
       "      <th>Sessions Played</th>\n",
       "      <th>Avg Session Duration (mins)</th>\n",
       "      <th>Total Hours Played</th>\n",
       "      <th>Engagement Score</th>\n",
       "      <th>Spending (USD)</th>\n",
       "    </tr>\n",
       "  </thead>\n",
       "  <tbody>\n",
       "    <tr>\n",
       "      <th>count</th>\n",
       "      <td>500.000000</td>\n",
       "      <td>464.000000</td>\n",
       "      <td>464.000000</td>\n",
       "      <td>464.000000</td>\n",
       "      <td>500.000000</td>\n",
       "    </tr>\n",
       "    <tr>\n",
       "      <th>mean</th>\n",
       "      <td>57.425590</td>\n",
       "      <td>101.711357</td>\n",
       "      <td>315.759760</td>\n",
       "      <td>5.211416</td>\n",
       "      <td>185.358129</td>\n",
       "    </tr>\n",
       "    <tr>\n",
       "      <th>std</th>\n",
       "      <td>27.297914</td>\n",
       "      <td>49.707221</td>\n",
       "      <td>153.564744</td>\n",
       "      <td>2.629941</td>\n",
       "      <td>69.087819</td>\n",
       "    </tr>\n",
       "    <tr>\n",
       "      <th>min</th>\n",
       "      <td>0.924622</td>\n",
       "      <td>5.435038</td>\n",
       "      <td>49.505115</td>\n",
       "      <td>1.112633</td>\n",
       "      <td>3.187987</td>\n",
       "    </tr>\n",
       "    <tr>\n",
       "      <th>25%</th>\n",
       "      <td>33.129586</td>\n",
       "      <td>52.697554</td>\n",
       "      <td>228.499014</td>\n",
       "      <td>2.554330</td>\n",
       "      <td>181.908821</td>\n",
       "    </tr>\n",
       "    <tr>\n",
       "      <th>50%</th>\n",
       "      <td>54.038554</td>\n",
       "      <td>87.306350</td>\n",
       "      <td>331.754796</td>\n",
       "      <td>4.606317</td>\n",
       "      <td>181.999202</td>\n",
       "    </tr>\n",
       "    <tr>\n",
       "      <th>75%</th>\n",
       "      <td>81.052691</td>\n",
       "      <td>151.844831</td>\n",
       "      <td>452.487825</td>\n",
       "      <td>7.888849</td>\n",
       "      <td>182.093521</td>\n",
       "    </tr>\n",
       "    <tr>\n",
       "      <th>max</th>\n",
       "      <td>100.119858</td>\n",
       "      <td>180.099523</td>\n",
       "      <td>493.038239</td>\n",
       "      <td>10.118860</td>\n",
       "      <td>427.002822</td>\n",
       "    </tr>\n",
       "  </tbody>\n",
       "</table>\n",
       "</div>"
      ],
      "text/plain": [
       "       Sessions Played  Avg Session Duration (mins)  Total Hours Played  \\\n",
       "count       500.000000                   464.000000          464.000000   \n",
       "mean         57.425590                   101.711357          315.759760   \n",
       "std          27.297914                    49.707221          153.564744   \n",
       "min           0.924622                     5.435038           49.505115   \n",
       "25%          33.129586                    52.697554          228.499014   \n",
       "50%          54.038554                    87.306350          331.754796   \n",
       "75%          81.052691                   151.844831          452.487825   \n",
       "max         100.119858                   180.099523          493.038239   \n",
       "\n",
       "       Engagement Score  Spending (USD)  \n",
       "count        464.000000      500.000000  \n",
       "mean           5.211416      185.358129  \n",
       "std            2.629941       69.087819  \n",
       "min            1.112633        3.187987  \n",
       "25%            2.554330      181.908821  \n",
       "50%            4.606317      181.999202  \n",
       "75%            7.888849      182.093521  \n",
       "max           10.118860      427.002822  "
      ]
     },
     "execution_count": 3,
     "metadata": {},
     "output_type": "execute_result"
    }
   ],
   "source": [
    "df.describe()"
   ]
  },
  {
   "cell_type": "code",
   "execution_count": 4,
   "id": "dc25473e",
   "metadata": {},
   "outputs": [
    {
     "name": "stdout",
     "output_type": "stream",
     "text": [
      "<class 'pandas.core.frame.DataFrame'>\n",
      "RangeIndex: 500 entries, 0 to 499\n",
      "Data columns (total 9 columns):\n",
      " #   Column                       Non-Null Count  Dtype  \n",
      "---  ------                       --------------  -----  \n",
      " 0   Player ID                    500 non-null    object \n",
      " 1   Sessions Played              500 non-null    float64\n",
      " 2   Avg Session Duration (mins)  464 non-null    float64\n",
      " 3   Total Hours Played           464 non-null    float64\n",
      " 4   Engagement Score             464 non-null    float64\n",
      " 5   Spending (USD)               500 non-null    float64\n",
      " 6   New Player                   464 non-null    object \n",
      " 7   Game Mode                    500 non-null    object \n",
      " 8   Device Used                  430 non-null    object \n",
      "dtypes: float64(5), object(4)\n",
      "memory usage: 35.3+ KB\n"
     ]
    }
   ],
   "source": [
    "df.info()"
   ]
  },
  {
   "cell_type": "markdown",
   "id": "6e39aeb6",
   "metadata": {},
   "source": [
    "#### Removing duplicates and incorrect data"
   ]
  },
  {
   "cell_type": "code",
   "execution_count": 5,
   "id": "e0039301",
   "metadata": {},
   "outputs": [],
   "source": [
    "df_copy = df.copy()"
   ]
  },
  {
   "cell_type": "code",
   "execution_count": 6,
   "id": "67d1b9e0",
   "metadata": {},
   "outputs": [
    {
     "data": {
      "text/plain": [
       "np.False_"
      ]
     },
     "execution_count": 6,
     "metadata": {},
     "output_type": "execute_result"
    }
   ],
   "source": [
    "# Check duplicate rows\n",
    "df_copy.duplicated().any()"
   ]
  },
  {
   "cell_type": "code",
   "execution_count": 7,
   "id": "1a25bc51",
   "metadata": {},
   "outputs": [
    {
     "data": {
      "text/plain": [
       "np.int64(0)"
      ]
     },
     "execution_count": 7,
     "metadata": {},
     "output_type": "execute_result"
    }
   ],
   "source": [
    "df_copy.duplicated().sum()"
   ]
  },
  {
   "cell_type": "code",
   "execution_count": 8,
   "id": "d7414b01",
   "metadata": {},
   "outputs": [],
   "source": [
    "# Remove duplicate rows\n",
    "df_copy = df_copy.drop_duplicates()"
   ]
  },
  {
   "cell_type": "code",
   "execution_count": 9,
   "id": "87e63ac3",
   "metadata": {},
   "outputs": [],
   "source": [
    "# Standardize Player ID (e.g., all lowercase for uniformity)\n",
    "df_copy['Player ID'] = df_copy['Player ID'].str.lower()"
   ]
  },
  {
   "cell_type": "code",
   "execution_count": 10,
   "id": "3337a8e3",
   "metadata": {},
   "outputs": [
    {
     "data": {
      "text/html": [
       "<div>\n",
       "<style scoped>\n",
       "    .dataframe tbody tr th:only-of-type {\n",
       "        vertical-align: middle;\n",
       "    }\n",
       "\n",
       "    .dataframe tbody tr th {\n",
       "        vertical-align: top;\n",
       "    }\n",
       "\n",
       "    .dataframe thead th {\n",
       "        text-align: right;\n",
       "    }\n",
       "</style>\n",
       "<table border=\"1\" class=\"dataframe\">\n",
       "  <thead>\n",
       "    <tr style=\"text-align: right;\">\n",
       "      <th></th>\n",
       "      <th>Player ID</th>\n",
       "      <th>Sessions Played</th>\n",
       "      <th>Avg Session Duration (mins)</th>\n",
       "      <th>Total Hours Played</th>\n",
       "      <th>Engagement Score</th>\n",
       "      <th>Spending (USD)</th>\n",
       "      <th>New Player</th>\n",
       "      <th>Game Mode</th>\n",
       "      <th>Device Used</th>\n",
       "    </tr>\n",
       "  </thead>\n",
       "  <tbody>\n",
       "    <tr>\n",
       "      <th>0</th>\n",
       "      <td>player1889</td>\n",
       "      <td>88.0</td>\n",
       "      <td>52.540813</td>\n",
       "      <td>228.481935</td>\n",
       "      <td>6.569165</td>\n",
       "      <td>181.999202</td>\n",
       "      <td>Yes</td>\n",
       "      <td>BATTLEROYALE</td>\n",
       "      <td>Tablet</td>\n",
       "    </tr>\n",
       "    <tr>\n",
       "      <th>1</th>\n",
       "      <td>playexxr7059</td>\n",
       "      <td>41.0</td>\n",
       "      <td>52.540813</td>\n",
       "      <td>228.481935</td>\n",
       "      <td>3.354784</td>\n",
       "      <td>181.999202</td>\n",
       "      <td>Nxxo</td>\n",
       "      <td>Casual</td>\n",
       "      <td>PxxC1</td>\n",
       "    </tr>\n",
       "    <tr>\n",
       "      <th>2</th>\n",
       "      <td>player6122</td>\n",
       "      <td>18.0</td>\n",
       "      <td>52.540813</td>\n",
       "      <td>228.481935</td>\n",
       "      <td>2.478129</td>\n",
       "      <td>181.999202</td>\n",
       "      <td>No</td>\n",
       "      <td>Straxxtegy</td>\n",
       "      <td>PxxC</td>\n",
       "    </tr>\n",
       "    <tr>\n",
       "      <th>3</th>\n",
       "      <td>player1987</td>\n",
       "      <td>79.0</td>\n",
       "      <td>160.034785</td>\n",
       "      <td>228.481935</td>\n",
       "      <td>8.107943</td>\n",
       "      <td>181.999202</td>\n",
       "      <td>No</td>\n",
       "      <td>Battlexx Royale</td>\n",
       "      <td>PC1</td>\n",
       "    </tr>\n",
       "    <tr>\n",
       "      <th>4</th>\n",
       "      <td>player6339</td>\n",
       "      <td>81.0</td>\n",
       "      <td>NaN</td>\n",
       "      <td>NaN</td>\n",
       "      <td>NaN</td>\n",
       "      <td>181.999202</td>\n",
       "      <td>NaN</td>\n",
       "      <td>Battlexx Royale</td>\n",
       "      <td>NaN</td>\n",
       "    </tr>\n",
       "  </tbody>\n",
       "</table>\n",
       "</div>"
      ],
      "text/plain": [
       "      Player ID  Sessions Played  Avg Session Duration (mins)  \\\n",
       "0    player1889             88.0                    52.540813   \n",
       "1  playexxr7059             41.0                    52.540813   \n",
       "2    player6122             18.0                    52.540813   \n",
       "3    player1987             79.0                   160.034785   \n",
       "4    player6339             81.0                          NaN   \n",
       "\n",
       "   Total Hours Played  Engagement Score  Spending (USD) New Player  \\\n",
       "0          228.481935          6.569165      181.999202        Yes   \n",
       "1          228.481935          3.354784      181.999202       Nxxo   \n",
       "2          228.481935          2.478129      181.999202         No   \n",
       "3          228.481935          8.107943      181.999202        No    \n",
       "4                 NaN               NaN      181.999202        NaN   \n",
       "\n",
       "         Game Mode Device Used  \n",
       "0     BATTLEROYALE      Tablet  \n",
       "1           Casual       PxxC1  \n",
       "2       Straxxtegy        PxxC  \n",
       "3  Battlexx Royale         PC1  \n",
       "4  Battlexx Royale         NaN  "
      ]
     },
     "execution_count": 10,
     "metadata": {},
     "output_type": "execute_result"
    }
   ],
   "source": [
    "df_copy.head()"
   ]
  },
  {
   "cell_type": "code",
   "execution_count": null,
   "id": "c49c6d64",
   "metadata": {},
   "outputs": [],
   "source": []
  },
  {
   "cell_type": "code",
   "execution_count": 14,
   "id": "74625de1",
   "metadata": {},
   "outputs": [],
   "source": [
    "def remove_xx(value):\n",
    "    if type(value) == str:\n",
    "        value = value.replace(\"xx\", \"\")\n",
    "    return value"
   ]
  },
  {
   "cell_type": "code",
   "execution_count": 21,
   "id": "715288aa",
   "metadata": {},
   "outputs": [],
   "source": [
    "def remove_space(value):\n",
    "    if type(value) == str:\n",
    "        value = value.strip()\n",
    "    return value"
   ]
  },
  {
   "cell_type": "code",
   "execution_count": 24,
   "id": "3adce3bf",
   "metadata": {},
   "outputs": [],
   "source": [
    "def to_lower_case(value):\n",
    "    if type(value) == str:\n",
    "        value = value.lower()\n",
    "    return value"
   ]
  },
  {
   "cell_type": "code",
   "execution_count": null,
   "id": "99ab7786",
   "metadata": {},
   "outputs": [],
   "source": [
    "def clean_data(data):\n",
    "    data = remove_xx(data)\n",
    "    data = remove_space(data)\n",
    "    data = to_lower_case(data)\n",
    "    return data"
   ]
  },
  {
   "cell_type": "code",
   "execution_count": null,
   "id": "04859a17",
   "metadata": {},
   "outputs": [],
   "source": [
    "def clean_dataset(df):\n",
    "    categorical_columns = df.select_dtypes(include=['object', 'category']).columns.to_list()\n",
    "    print(categorical_columns)\n",
    "    for column in categorical_columns:\n",
    "        df[column] = df[column].apply()\n",
    "    return df"
   ]
  },
  {
   "cell_type": "code",
   "execution_count": 26,
   "id": "c8e93b11",
   "metadata": {},
   "outputs": [
    {
     "name": "stdout",
     "output_type": "stream",
     "text": [
      "['Player ID', 'New Player', 'Game Mode', 'Device Used']\n"
     ]
    },
    {
     "name": "stderr",
     "output_type": "stream",
     "text": [
      "C:\\Users\\damol\\AppData\\Local\\Temp\\ipykernel_3860\\2554913628.py:5: FutureWarning: the convert_dtype parameter is deprecated and will be removed in a future version.  Do ``ser.astype(object).apply()`` instead if you want ``convert_dtype=False``.\n",
      "  df[column] = df[column].apply(remove_xx, remove_space, to_lower_case)\n"
     ]
    },
    {
     "ename": "TypeError",
     "evalue": "Value after * must be an iterable, not function",
     "output_type": "error",
     "traceback": [
      "\u001b[31m---------------------------------------------------------------------------\u001b[39m",
      "\u001b[31mTypeError\u001b[39m                                 Traceback (most recent call last)",
      "\u001b[36mCell\u001b[39m\u001b[36m \u001b[39m\u001b[32mIn[26]\u001b[39m\u001b[32m, line 1\u001b[39m\n\u001b[32m----> \u001b[39m\u001b[32m1\u001b[39m clean_df = \u001b[43mclean_dataset\u001b[49m\u001b[43m(\u001b[49m\u001b[43mdf_copy\u001b[49m\u001b[43m)\u001b[49m\n\u001b[32m      2\u001b[39m clean_df.head()\n",
      "\u001b[36mCell\u001b[39m\u001b[36m \u001b[39m\u001b[32mIn[25]\u001b[39m\u001b[32m, line 5\u001b[39m, in \u001b[36mclean_dataset\u001b[39m\u001b[34m(df)\u001b[39m\n\u001b[32m      3\u001b[39m \u001b[38;5;28mprint\u001b[39m(categorical_columns)\n\u001b[32m      4\u001b[39m \u001b[38;5;28;01mfor\u001b[39;00m column \u001b[38;5;129;01min\u001b[39;00m categorical_columns:\n\u001b[32m----> \u001b[39m\u001b[32m5\u001b[39m     df[column] = \u001b[43mdf\u001b[49m\u001b[43m[\u001b[49m\u001b[43mcolumn\u001b[49m\u001b[43m]\u001b[49m\u001b[43m.\u001b[49m\u001b[43mapply\u001b[49m\u001b[43m(\u001b[49m\u001b[43mremove_xx\u001b[49m\u001b[43m,\u001b[49m\u001b[43m \u001b[49m\u001b[43mremove_space\u001b[49m\u001b[43m,\u001b[49m\u001b[43m \u001b[49m\u001b[43mto_lower_case\u001b[49m\u001b[43m)\u001b[49m\n\u001b[32m      6\u001b[39m \u001b[38;5;28;01mreturn\u001b[39;00m df\n",
      "\u001b[36mFile \u001b[39m\u001b[32mc:\\Users\\damol\\AppData\\Local\\Programs\\Python\\Python313\\Lib\\site-packages\\pandas\\core\\series.py:4924\u001b[39m, in \u001b[36mSeries.apply\u001b[39m\u001b[34m(self, func, convert_dtype, args, by_row, **kwargs)\u001b[39m\n\u001b[32m   4789\u001b[39m \u001b[38;5;28;01mdef\u001b[39;00m\u001b[38;5;250m \u001b[39m\u001b[34mapply\u001b[39m(\n\u001b[32m   4790\u001b[39m     \u001b[38;5;28mself\u001b[39m,\n\u001b[32m   4791\u001b[39m     func: AggFuncType,\n\u001b[32m   (...)\u001b[39m\u001b[32m   4796\u001b[39m     **kwargs,\n\u001b[32m   4797\u001b[39m ) -> DataFrame | Series:\n\u001b[32m   4798\u001b[39m \u001b[38;5;250m    \u001b[39m\u001b[33;03m\"\"\"\u001b[39;00m\n\u001b[32m   4799\u001b[39m \u001b[33;03m    Invoke function on values of Series.\u001b[39;00m\n\u001b[32m   4800\u001b[39m \n\u001b[32m   (...)\u001b[39m\u001b[32m   4915\u001b[39m \u001b[33;03m    dtype: float64\u001b[39;00m\n\u001b[32m   4916\u001b[39m \u001b[33;03m    \"\"\"\u001b[39;00m\n\u001b[32m   4917\u001b[39m     \u001b[38;5;28;01mreturn\u001b[39;00m \u001b[43mSeriesApply\u001b[49m\u001b[43m(\u001b[49m\n\u001b[32m   4918\u001b[39m \u001b[43m        \u001b[49m\u001b[38;5;28;43mself\u001b[39;49m\u001b[43m,\u001b[49m\n\u001b[32m   4919\u001b[39m \u001b[43m        \u001b[49m\u001b[43mfunc\u001b[49m\u001b[43m,\u001b[49m\n\u001b[32m   4920\u001b[39m \u001b[43m        \u001b[49m\u001b[43mconvert_dtype\u001b[49m\u001b[43m=\u001b[49m\u001b[43mconvert_dtype\u001b[49m\u001b[43m,\u001b[49m\n\u001b[32m   4921\u001b[39m \u001b[43m        \u001b[49m\u001b[43mby_row\u001b[49m\u001b[43m=\u001b[49m\u001b[43mby_row\u001b[49m\u001b[43m,\u001b[49m\n\u001b[32m   4922\u001b[39m \u001b[43m        \u001b[49m\u001b[43margs\u001b[49m\u001b[43m=\u001b[49m\u001b[43margs\u001b[49m\u001b[43m,\u001b[49m\n\u001b[32m   4923\u001b[39m \u001b[43m        \u001b[49m\u001b[43mkwargs\u001b[49m\u001b[43m=\u001b[49m\u001b[43mkwargs\u001b[49m\u001b[43m,\u001b[49m\n\u001b[32m-> \u001b[39m\u001b[32m4924\u001b[39m \u001b[43m    \u001b[49m\u001b[43m)\u001b[49m\u001b[43m.\u001b[49m\u001b[43mapply\u001b[49m\u001b[43m(\u001b[49m\u001b[43m)\u001b[49m\n",
      "\u001b[36mFile \u001b[39m\u001b[32mc:\\Users\\damol\\AppData\\Local\\Programs\\Python\\Python313\\Lib\\site-packages\\pandas\\core\\apply.py:1427\u001b[39m, in \u001b[36mSeriesApply.apply\u001b[39m\u001b[34m(self)\u001b[39m\n\u001b[32m   1424\u001b[39m     \u001b[38;5;28;01mreturn\u001b[39;00m \u001b[38;5;28mself\u001b[39m.apply_compat()\n\u001b[32m   1426\u001b[39m \u001b[38;5;66;03m# self.func is Callable\u001b[39;00m\n\u001b[32m-> \u001b[39m\u001b[32m1427\u001b[39m \u001b[38;5;28;01mreturn\u001b[39;00m \u001b[38;5;28;43mself\u001b[39;49m\u001b[43m.\u001b[49m\u001b[43mapply_standard\u001b[49m\u001b[43m(\u001b[49m\u001b[43m)\u001b[49m\n",
      "\u001b[36mFile \u001b[39m\u001b[32mc:\\Users\\damol\\AppData\\Local\\Programs\\Python\\Python313\\Lib\\site-packages\\pandas\\core\\apply.py:1507\u001b[39m, in \u001b[36mSeriesApply.apply_standard\u001b[39m\u001b[34m(self)\u001b[39m\n\u001b[32m   1501\u001b[39m \u001b[38;5;66;03m# row-wise access\u001b[39;00m\n\u001b[32m   1502\u001b[39m \u001b[38;5;66;03m# apply doesn't have a `na_action` keyword and for backward compat reasons\u001b[39;00m\n\u001b[32m   1503\u001b[39m \u001b[38;5;66;03m# we need to give `na_action=\"ignore\"` for categorical data.\u001b[39;00m\n\u001b[32m   1504\u001b[39m \u001b[38;5;66;03m# TODO: remove the `na_action=\"ignore\"` when that default has been changed in\u001b[39;00m\n\u001b[32m   1505\u001b[39m \u001b[38;5;66;03m#  Categorical (GH51645).\u001b[39;00m\n\u001b[32m   1506\u001b[39m action = \u001b[33m\"\u001b[39m\u001b[33mignore\u001b[39m\u001b[33m\"\u001b[39m \u001b[38;5;28;01mif\u001b[39;00m \u001b[38;5;28misinstance\u001b[39m(obj.dtype, CategoricalDtype) \u001b[38;5;28;01melse\u001b[39;00m \u001b[38;5;28;01mNone\u001b[39;00m\n\u001b[32m-> \u001b[39m\u001b[32m1507\u001b[39m mapped = \u001b[43mobj\u001b[49m\u001b[43m.\u001b[49m\u001b[43m_map_values\u001b[49m\u001b[43m(\u001b[49m\n\u001b[32m   1508\u001b[39m \u001b[43m    \u001b[49m\u001b[43mmapper\u001b[49m\u001b[43m=\u001b[49m\u001b[43mcurried\u001b[49m\u001b[43m,\u001b[49m\u001b[43m \u001b[49m\u001b[43mna_action\u001b[49m\u001b[43m=\u001b[49m\u001b[43maction\u001b[49m\u001b[43m,\u001b[49m\u001b[43m \u001b[49m\u001b[43mconvert\u001b[49m\u001b[43m=\u001b[49m\u001b[38;5;28;43mself\u001b[39;49m\u001b[43m.\u001b[49m\u001b[43mconvert_dtype\u001b[49m\n\u001b[32m   1509\u001b[39m \u001b[43m\u001b[49m\u001b[43m)\u001b[49m\n\u001b[32m   1511\u001b[39m \u001b[38;5;28;01mif\u001b[39;00m \u001b[38;5;28mlen\u001b[39m(mapped) \u001b[38;5;129;01mand\u001b[39;00m \u001b[38;5;28misinstance\u001b[39m(mapped[\u001b[32m0\u001b[39m], ABCSeries):\n\u001b[32m   1512\u001b[39m     \u001b[38;5;66;03m# GH#43986 Need to do list(mapped) in order to get treated as nested\u001b[39;00m\n\u001b[32m   1513\u001b[39m     \u001b[38;5;66;03m#  See also GH#25959 regarding EA support\u001b[39;00m\n\u001b[32m   1514\u001b[39m     \u001b[38;5;28;01mreturn\u001b[39;00m obj._constructor_expanddim(\u001b[38;5;28mlist\u001b[39m(mapped), index=obj.index)\n",
      "\u001b[36mFile \u001b[39m\u001b[32mc:\\Users\\damol\\AppData\\Local\\Programs\\Python\\Python313\\Lib\\site-packages\\pandas\\core\\base.py:921\u001b[39m, in \u001b[36mIndexOpsMixin._map_values\u001b[39m\u001b[34m(self, mapper, na_action, convert)\u001b[39m\n\u001b[32m    918\u001b[39m \u001b[38;5;28;01mif\u001b[39;00m \u001b[38;5;28misinstance\u001b[39m(arr, ExtensionArray):\n\u001b[32m    919\u001b[39m     \u001b[38;5;28;01mreturn\u001b[39;00m arr.map(mapper, na_action=na_action)\n\u001b[32m--> \u001b[39m\u001b[32m921\u001b[39m \u001b[38;5;28;01mreturn\u001b[39;00m \u001b[43malgorithms\u001b[49m\u001b[43m.\u001b[49m\u001b[43mmap_array\u001b[49m\u001b[43m(\u001b[49m\u001b[43marr\u001b[49m\u001b[43m,\u001b[49m\u001b[43m \u001b[49m\u001b[43mmapper\u001b[49m\u001b[43m,\u001b[49m\u001b[43m \u001b[49m\u001b[43mna_action\u001b[49m\u001b[43m=\u001b[49m\u001b[43mna_action\u001b[49m\u001b[43m,\u001b[49m\u001b[43m \u001b[49m\u001b[43mconvert\u001b[49m\u001b[43m=\u001b[49m\u001b[43mconvert\u001b[49m\u001b[43m)\u001b[49m\n",
      "\u001b[36mFile \u001b[39m\u001b[32mc:\\Users\\damol\\AppData\\Local\\Programs\\Python\\Python313\\Lib\\site-packages\\pandas\\core\\algorithms.py:1743\u001b[39m, in \u001b[36mmap_array\u001b[39m\u001b[34m(arr, mapper, na_action, convert)\u001b[39m\n\u001b[32m   1741\u001b[39m values = arr.astype(\u001b[38;5;28mobject\u001b[39m, copy=\u001b[38;5;28;01mFalse\u001b[39;00m)\n\u001b[32m   1742\u001b[39m \u001b[38;5;28;01mif\u001b[39;00m na_action \u001b[38;5;129;01mis\u001b[39;00m \u001b[38;5;28;01mNone\u001b[39;00m:\n\u001b[32m-> \u001b[39m\u001b[32m1743\u001b[39m     \u001b[38;5;28;01mreturn\u001b[39;00m \u001b[43mlib\u001b[49m\u001b[43m.\u001b[49m\u001b[43mmap_infer\u001b[49m\u001b[43m(\u001b[49m\u001b[43mvalues\u001b[49m\u001b[43m,\u001b[49m\u001b[43m \u001b[49m\u001b[43mmapper\u001b[49m\u001b[43m,\u001b[49m\u001b[43m \u001b[49m\u001b[43mconvert\u001b[49m\u001b[43m=\u001b[49m\u001b[43mconvert\u001b[49m\u001b[43m)\u001b[49m\n\u001b[32m   1744\u001b[39m \u001b[38;5;28;01melse\u001b[39;00m:\n\u001b[32m   1745\u001b[39m     \u001b[38;5;28;01mreturn\u001b[39;00m lib.map_infer_mask(\n\u001b[32m   1746\u001b[39m         values, mapper, mask=isna(values).view(np.uint8), convert=convert\n\u001b[32m   1747\u001b[39m     )\n",
      "\u001b[36mFile \u001b[39m\u001b[32mlib.pyx:2972\u001b[39m, in \u001b[36mpandas._libs.lib.map_infer\u001b[39m\u001b[34m()\u001b[39m\n",
      "\u001b[36mFile \u001b[39m\u001b[32mc:\\Users\\damol\\AppData\\Local\\Programs\\Python\\Python313\\Lib\\site-packages\\pandas\\core\\apply.py:1496\u001b[39m, in \u001b[36mSeriesApply.apply_standard.<locals>.curried\u001b[39m\u001b[34m(x)\u001b[39m\n\u001b[32m   1495\u001b[39m \u001b[38;5;28;01mdef\u001b[39;00m\u001b[38;5;250m \u001b[39m\u001b[34mcurried\u001b[39m(x):\n\u001b[32m-> \u001b[39m\u001b[32m1496\u001b[39m     \u001b[38;5;28;01mreturn\u001b[39;00m func(x, *\u001b[38;5;28mself\u001b[39m.args, **\u001b[38;5;28mself\u001b[39m.kwargs)\n",
      "\u001b[31mTypeError\u001b[39m: Value after * must be an iterable, not function"
     ]
    }
   ],
   "source": [
    "clean_df = clean_dataset(df_copy)\n",
    "clean_df.head()"
   ]
  },
  {
   "cell_type": "code",
   "execution_count": 20,
   "id": "beadfb38",
   "metadata": {},
   "outputs": [
    {
     "name": "stdout",
     "output_type": "stream",
     "text": [
      "['player1889' 'player7059' 'player6122' 'player1987' 'player6339'\n",
      " 'player7586' 'player1886' 'player5697' 'player9447' 'player4707'\n",
      " 'player6604' 'player5985' 'player2259' 'player3673' 'player8457'\n",
      " 'player5394' 'player6918' 'player1507' 'player6410' 'player8698'\n",
      " 'player1685' 'player1294' 'player5032 ' 'player4865' 'player7833 '\n",
      " 'player4651' 'player6038' 'player5394 ' 'player8618 ' 'player3007 '\n",
      " 'player4828 ' 'player8074' 'player6541' 'player8374' 'player3824'\n",
      " 'player2705' 'player9266' 'player9447 ' 'player4654' 'player4407'\n",
      " 'player7320' 'player3673 ' 'player8074 ' 'player3784' 'player6356'\n",
      " 'player9053' 'player7382' 'player9345' 'player4394 ' 'player6475'\n",
      " 'player3637 ' 'player6622' 'player7413 ' 'player9364' 'player7299'\n",
      " 'player8912' 'player6582' 'player7105' 'player8698 ' 'player8940'\n",
      " 'player5985 ' 'player2397' 'player5817' 'player1987 ' 'player3943 '\n",
      " 'player5936' 'player7105 ' 'player8624' 'player6443' 'player3679'\n",
      " 'player9266 ' 'player3007' 'player3003' 'player7152 ' 'player1294 ']\n",
      "['Yes' 'No' 'No ' nan 'Yes ' 'yes' 'no' 'NO' 'YES']\n",
      "['BATTLEROYALE' 'Casual' 'Strategy' 'Battle Royale' 'Strategy '\n",
      " 'Battle Royale ' 'strategy' 'BattleRoyale' 'Adventure' 'CASUAL'\n",
      " 'BattleRoyale ' 'casual' 'Adventure ' 'battleroyale' 'BATTLE ROYALE'\n",
      " 'Battle royale' 'battle royale' 'adventure' 'Battleroyale' 'Casual '\n",
      " 'ADVENTURE' 'STRATEGY']\n",
      "['Tablet' 'PC1' 'PC' nan 'PC ' 'Console ' 'Mobile ' 'Console' 'MOBILE'\n",
      " 'Tablet ' 'Mobile' 'tablet' 'PC1 ' 'CONSOLE' 'Pc' 'mobile' 'Pc1' 'pc1'\n",
      " 'pc' 'console']\n"
     ]
    }
   ],
   "source": [
    "categorical_columns = clean_df.select_dtypes(include=['object', 'category']).columns.to_list()\n",
    "for col in categorical_columns:\n",
    "    print(clean_df[col].unique())"
   ]
  },
  {
   "cell_type": "code",
   "execution_count": null,
   "id": "f28abf55",
   "metadata": {},
   "outputs": [],
   "source": []
  },
  {
   "cell_type": "markdown",
   "id": "50cc6255",
   "metadata": {},
   "source": [
    "### Handling missing values"
   ]
  },
  {
   "cell_type": "code",
   "execution_count": 7,
   "id": "5639908f",
   "metadata": {},
   "outputs": [
    {
     "data": {
      "text/plain": [
       "Player ID                       0\n",
       "Sessions Played                 0\n",
       "Avg Session Duration (mins)    36\n",
       "Total Hours Played             36\n",
       "Engagement Score               36\n",
       "Spending (USD)                  0\n",
       "New Player                     36\n",
       "Game Mode                       0\n",
       "Device Used                    70\n",
       "dtype: int64"
      ]
     },
     "execution_count": 7,
     "metadata": {},
     "output_type": "execute_result"
    }
   ],
   "source": [
    "# Check missing values\n",
    "df.isna().sum()"
   ]
  },
  {
   "cell_type": "code",
   "execution_count": null,
   "id": "bbd1a629",
   "metadata": {},
   "outputs": [],
   "source": []
  }
 ],
 "metadata": {
  "kernelspec": {
   "display_name": "Python 3",
   "language": "python",
   "name": "python3"
  },
  "language_info": {
   "codemirror_mode": {
    "name": "ipython",
    "version": 3
   },
   "file_extension": ".py",
   "mimetype": "text/x-python",
   "name": "python",
   "nbconvert_exporter": "python",
   "pygments_lexer": "ipython3",
   "version": "3.13.2"
  }
 },
 "nbformat": 4,
 "nbformat_minor": 5
}
